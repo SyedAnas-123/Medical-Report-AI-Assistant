{
 "cells": [
  {
   "cell_type": "markdown",
   "id": "dcb1fa15-8b31-42d4-96b5-f67af24f01cf",
   "metadata": {},
   "source": [
    "Predictor Features:\n",
    "\n",
    "age, sex, cp (chest pain type), trestbps (resting blood pressure), chol (cholesterol), fbs (fasting blood sugar), restecg (resting ECG results), \n",
    "thalach (max heart rate achieved), exang (exercise-induced angina), oldpeak (ST depression), slope (slope of peak exercise ST segment), \n",
    "ca (number of major vessels), thal (thalassemia type).\n",
    "\n",
    "Target Variable:\n",
    "\n",
    "num (0 or 1) → This indicates whether the patient has heart disease."
   ]
  },
  {
   "cell_type": "code",
   "execution_count": 2,
   "id": "2a1f97b7-bca9-4b83-b8b7-2f8265a753e3",
   "metadata": {},
   "outputs": [],
   "source": [
    "import pandas as pd \n",
    "import pandas as pd \n",
    "import seaborn as sns\n",
    "import numpy as np \n",
    "import matplotlib.pyplot as plt \n",
    "import tensorflow as tf\n",
    "from sklearn.model_selection import train_test_split\n",
    "from sklearn.preprocessing import StandardScaler\n",
    "from tensorflow import keras\n",
    "from tensorflow.keras import  Sequential \n",
    "from tensorflow.keras.layers import Dense  , Flatten  , Dropout\n",
    "from tensorflow.keras.callbacks import EarlyStopping\n",
    "import sklearn\n",
    "from sklearn.metrics import classification_report\n",
    "\n",
    "from sklearn.preprocessing import MinMaxScaler"
   ]
  },
  {
   "cell_type": "code",
   "execution_count": 3,
   "id": "c689a9d4-5cfc-421e-a643-3e5300ee6d3a",
   "metadata": {},
   "outputs": [
    {
     "name": "stdout",
     "output_type": "stream",
     "text": [
      "Pandas Version: 2.2.3\n",
      "Seaborn Version: 0.13.2\n",
      "NumPy Version: 2.0.2\n",
      "Matplotlib Version: 3.10.1\n",
      "TensorFlow Version: 2.18.0\n",
      "Scikit-learn Version: 1.6.1\n"
     ]
    }
   ],
   "source": [
    "print(\"Pandas Version:\", pd.__version__)\n",
    "print(\"Seaborn Version:\", sns.__version__)\n",
    "print(\"NumPy Version:\", np.__version__)\n",
    "print(\"Matplotlib Version:\", plt.matplotlib.__version__)\n",
    "print(\"TensorFlow Version:\", tf.__version__)\n",
    "print(\"Scikit-learn Version:\", sklearn.__version__)\n"
   ]
  },
  {
   "cell_type": "code",
   "execution_count": 3,
   "id": "8b78f345-fa05-4916-8bc1-ba3699fbfe72",
   "metadata": {},
   "outputs": [
    {
     "data": {
      "text/html": [
       "<div>\n",
       "<style scoped>\n",
       "    .dataframe tbody tr th:only-of-type {\n",
       "        vertical-align: middle;\n",
       "    }\n",
       "\n",
       "    .dataframe tbody tr th {\n",
       "        vertical-align: top;\n",
       "    }\n",
       "\n",
       "    .dataframe thead th {\n",
       "        text-align: right;\n",
       "    }\n",
       "</style>\n",
       "<table border=\"1\" class=\"dataframe\">\n",
       "  <thead>\n",
       "    <tr style=\"text-align: right;\">\n",
       "      <th></th>\n",
       "      <th>age</th>\n",
       "      <th>sex</th>\n",
       "      <th>cp</th>\n",
       "      <th>trestbps</th>\n",
       "      <th>chol</th>\n",
       "      <th>fbs</th>\n",
       "      <th>restecg</th>\n",
       "      <th>thalach</th>\n",
       "      <th>exang</th>\n",
       "      <th>oldpeak</th>\n",
       "      <th>slope</th>\n",
       "      <th>ca</th>\n",
       "      <th>thal</th>\n",
       "      <th>num</th>\n",
       "    </tr>\n",
       "  </thead>\n",
       "  <tbody>\n",
       "    <tr>\n",
       "      <th>0</th>\n",
       "      <td>63.0</td>\n",
       "      <td>1.0</td>\n",
       "      <td>1.0</td>\n",
       "      <td>145.0</td>\n",
       "      <td>233.0</td>\n",
       "      <td>1.0</td>\n",
       "      <td>2.0</td>\n",
       "      <td>150.0</td>\n",
       "      <td>0.0</td>\n",
       "      <td>2.3</td>\n",
       "      <td>3.0</td>\n",
       "      <td>0.0</td>\n",
       "      <td>6.0</td>\n",
       "      <td>0</td>\n",
       "    </tr>\n",
       "    <tr>\n",
       "      <th>1</th>\n",
       "      <td>67.0</td>\n",
       "      <td>1.0</td>\n",
       "      <td>4.0</td>\n",
       "      <td>160.0</td>\n",
       "      <td>286.0</td>\n",
       "      <td>0.0</td>\n",
       "      <td>2.0</td>\n",
       "      <td>108.0</td>\n",
       "      <td>1.0</td>\n",
       "      <td>1.5</td>\n",
       "      <td>2.0</td>\n",
       "      <td>3.0</td>\n",
       "      <td>3.0</td>\n",
       "      <td>1</td>\n",
       "    </tr>\n",
       "    <tr>\n",
       "      <th>2</th>\n",
       "      <td>67.0</td>\n",
       "      <td>1.0</td>\n",
       "      <td>4.0</td>\n",
       "      <td>120.0</td>\n",
       "      <td>229.0</td>\n",
       "      <td>0.0</td>\n",
       "      <td>2.0</td>\n",
       "      <td>129.0</td>\n",
       "      <td>1.0</td>\n",
       "      <td>2.6</td>\n",
       "      <td>2.0</td>\n",
       "      <td>2.0</td>\n",
       "      <td>7.0</td>\n",
       "      <td>1</td>\n",
       "    </tr>\n",
       "    <tr>\n",
       "      <th>3</th>\n",
       "      <td>37.0</td>\n",
       "      <td>1.0</td>\n",
       "      <td>3.0</td>\n",
       "      <td>130.0</td>\n",
       "      <td>250.0</td>\n",
       "      <td>0.0</td>\n",
       "      <td>0.0</td>\n",
       "      <td>187.0</td>\n",
       "      <td>0.0</td>\n",
       "      <td>3.5</td>\n",
       "      <td>3.0</td>\n",
       "      <td>0.0</td>\n",
       "      <td>3.0</td>\n",
       "      <td>0</td>\n",
       "    </tr>\n",
       "    <tr>\n",
       "      <th>4</th>\n",
       "      <td>41.0</td>\n",
       "      <td>0.0</td>\n",
       "      <td>2.0</td>\n",
       "      <td>130.0</td>\n",
       "      <td>204.0</td>\n",
       "      <td>0.0</td>\n",
       "      <td>2.0</td>\n",
       "      <td>172.0</td>\n",
       "      <td>0.0</td>\n",
       "      <td>1.4</td>\n",
       "      <td>1.0</td>\n",
       "      <td>0.0</td>\n",
       "      <td>3.0</td>\n",
       "      <td>0</td>\n",
       "    </tr>\n",
       "    <tr>\n",
       "      <th>...</th>\n",
       "      <td>...</td>\n",
       "      <td>...</td>\n",
       "      <td>...</td>\n",
       "      <td>...</td>\n",
       "      <td>...</td>\n",
       "      <td>...</td>\n",
       "      <td>...</td>\n",
       "      <td>...</td>\n",
       "      <td>...</td>\n",
       "      <td>...</td>\n",
       "      <td>...</td>\n",
       "      <td>...</td>\n",
       "      <td>...</td>\n",
       "      <td>...</td>\n",
       "    </tr>\n",
       "    <tr>\n",
       "      <th>298</th>\n",
       "      <td>45.0</td>\n",
       "      <td>1.0</td>\n",
       "      <td>1.0</td>\n",
       "      <td>110.0</td>\n",
       "      <td>264.0</td>\n",
       "      <td>0.0</td>\n",
       "      <td>0.0</td>\n",
       "      <td>132.0</td>\n",
       "      <td>0.0</td>\n",
       "      <td>1.2</td>\n",
       "      <td>2.0</td>\n",
       "      <td>0.0</td>\n",
       "      <td>7.0</td>\n",
       "      <td>1</td>\n",
       "    </tr>\n",
       "    <tr>\n",
       "      <th>299</th>\n",
       "      <td>68.0</td>\n",
       "      <td>1.0</td>\n",
       "      <td>4.0</td>\n",
       "      <td>144.0</td>\n",
       "      <td>193.0</td>\n",
       "      <td>1.0</td>\n",
       "      <td>0.0</td>\n",
       "      <td>141.0</td>\n",
       "      <td>0.0</td>\n",
       "      <td>3.4</td>\n",
       "      <td>2.0</td>\n",
       "      <td>2.0</td>\n",
       "      <td>7.0</td>\n",
       "      <td>1</td>\n",
       "    </tr>\n",
       "    <tr>\n",
       "      <th>300</th>\n",
       "      <td>57.0</td>\n",
       "      <td>1.0</td>\n",
       "      <td>4.0</td>\n",
       "      <td>130.0</td>\n",
       "      <td>131.0</td>\n",
       "      <td>0.0</td>\n",
       "      <td>0.0</td>\n",
       "      <td>115.0</td>\n",
       "      <td>1.0</td>\n",
       "      <td>1.2</td>\n",
       "      <td>2.0</td>\n",
       "      <td>1.0</td>\n",
       "      <td>7.0</td>\n",
       "      <td>1</td>\n",
       "    </tr>\n",
       "    <tr>\n",
       "      <th>301</th>\n",
       "      <td>57.0</td>\n",
       "      <td>0.0</td>\n",
       "      <td>2.0</td>\n",
       "      <td>130.0</td>\n",
       "      <td>236.0</td>\n",
       "      <td>0.0</td>\n",
       "      <td>2.0</td>\n",
       "      <td>174.0</td>\n",
       "      <td>0.0</td>\n",
       "      <td>0.0</td>\n",
       "      <td>2.0</td>\n",
       "      <td>1.0</td>\n",
       "      <td>3.0</td>\n",
       "      <td>1</td>\n",
       "    </tr>\n",
       "    <tr>\n",
       "      <th>302</th>\n",
       "      <td>38.0</td>\n",
       "      <td>1.0</td>\n",
       "      <td>3.0</td>\n",
       "      <td>138.0</td>\n",
       "      <td>175.0</td>\n",
       "      <td>0.0</td>\n",
       "      <td>0.0</td>\n",
       "      <td>173.0</td>\n",
       "      <td>0.0</td>\n",
       "      <td>0.0</td>\n",
       "      <td>1.0</td>\n",
       "      <td>0.0</td>\n",
       "      <td>3.0</td>\n",
       "      <td>0</td>\n",
       "    </tr>\n",
       "  </tbody>\n",
       "</table>\n",
       "<p>303 rows × 14 columns</p>\n",
       "</div>"
      ],
      "text/plain": [
       "      age  sex   cp  trestbps   chol  fbs  restecg  thalach  exang  oldpeak  \\\n",
       "0    63.0  1.0  1.0     145.0  233.0  1.0      2.0    150.0    0.0      2.3   \n",
       "1    67.0  1.0  4.0     160.0  286.0  0.0      2.0    108.0    1.0      1.5   \n",
       "2    67.0  1.0  4.0     120.0  229.0  0.0      2.0    129.0    1.0      2.6   \n",
       "3    37.0  1.0  3.0     130.0  250.0  0.0      0.0    187.0    0.0      3.5   \n",
       "4    41.0  0.0  2.0     130.0  204.0  0.0      2.0    172.0    0.0      1.4   \n",
       "..    ...  ...  ...       ...    ...  ...      ...      ...    ...      ...   \n",
       "298  45.0  1.0  1.0     110.0  264.0  0.0      0.0    132.0    0.0      1.2   \n",
       "299  68.0  1.0  4.0     144.0  193.0  1.0      0.0    141.0    0.0      3.4   \n",
       "300  57.0  1.0  4.0     130.0  131.0  0.0      0.0    115.0    1.0      1.2   \n",
       "301  57.0  0.0  2.0     130.0  236.0  0.0      2.0    174.0    0.0      0.0   \n",
       "302  38.0  1.0  3.0     138.0  175.0  0.0      0.0    173.0    0.0      0.0   \n",
       "\n",
       "     slope   ca  thal  num  \n",
       "0      3.0  0.0   6.0    0  \n",
       "1      2.0  3.0   3.0    1  \n",
       "2      2.0  2.0   7.0    1  \n",
       "3      3.0  0.0   3.0    0  \n",
       "4      1.0  0.0   3.0    0  \n",
       "..     ...  ...   ...  ...  \n",
       "298    2.0  0.0   7.0    1  \n",
       "299    2.0  2.0   7.0    1  \n",
       "300    2.0  1.0   7.0    1  \n",
       "301    2.0  1.0   3.0    1  \n",
       "302    1.0  0.0   3.0    0  \n",
       "\n",
       "[303 rows x 14 columns]"
      ]
     },
     "execution_count": 3,
     "metadata": {},
     "output_type": "execute_result"
    }
   ],
   "source": [
    "data = pd.read_csv('heart_disease_cleaned.csv')\n",
    "data"
   ]
  },
  {
   "cell_type": "code",
   "execution_count": 4,
   "id": "44e02ffa-8aec-4b76-8c0d-faf1d8ffcad1",
   "metadata": {},
   "outputs": [
    {
     "name": "stdout",
     "output_type": "stream",
     "text": [
      "<class 'pandas.core.frame.DataFrame'>\n",
      "RangeIndex: 303 entries, 0 to 302\n",
      "Data columns (total 14 columns):\n",
      " #   Column    Non-Null Count  Dtype  \n",
      "---  ------    --------------  -----  \n",
      " 0   age       303 non-null    float64\n",
      " 1   sex       303 non-null    float64\n",
      " 2   cp        303 non-null    float64\n",
      " 3   trestbps  303 non-null    float64\n",
      " 4   chol      303 non-null    float64\n",
      " 5   fbs       303 non-null    float64\n",
      " 6   restecg   303 non-null    float64\n",
      " 7   thalach   303 non-null    float64\n",
      " 8   exang     303 non-null    float64\n",
      " 9   oldpeak   303 non-null    float64\n",
      " 10  slope     303 non-null    float64\n",
      " 11  ca        303 non-null    float64\n",
      " 12  thal      303 non-null    float64\n",
      " 13  num       303 non-null    int64  \n",
      "dtypes: float64(13), int64(1)\n",
      "memory usage: 33.3 KB\n"
     ]
    }
   ],
   "source": [
    "data.info()"
   ]
  },
  {
   "cell_type": "code",
   "execution_count": 5,
   "id": "b3f837b3-2f93-4023-b703-87476b911e40",
   "metadata": {},
   "outputs": [
    {
     "data": {
      "text/html": [
       "<div>\n",
       "<style scoped>\n",
       "    .dataframe tbody tr th:only-of-type {\n",
       "        vertical-align: middle;\n",
       "    }\n",
       "\n",
       "    .dataframe tbody tr th {\n",
       "        vertical-align: top;\n",
       "    }\n",
       "\n",
       "    .dataframe thead th {\n",
       "        text-align: right;\n",
       "    }\n",
       "</style>\n",
       "<table border=\"1\" class=\"dataframe\">\n",
       "  <thead>\n",
       "    <tr style=\"text-align: right;\">\n",
       "      <th></th>\n",
       "      <th>age</th>\n",
       "      <th>sex</th>\n",
       "      <th>cp</th>\n",
       "      <th>trestbps</th>\n",
       "      <th>chol</th>\n",
       "      <th>fbs</th>\n",
       "      <th>restecg</th>\n",
       "      <th>thalach</th>\n",
       "      <th>exang</th>\n",
       "      <th>oldpeak</th>\n",
       "      <th>slope</th>\n",
       "      <th>ca</th>\n",
       "      <th>thal</th>\n",
       "      <th>num</th>\n",
       "    </tr>\n",
       "  </thead>\n",
       "  <tbody>\n",
       "    <tr>\n",
       "      <th>count</th>\n",
       "      <td>303.000000</td>\n",
       "      <td>303.000000</td>\n",
       "      <td>303.000000</td>\n",
       "      <td>303.000000</td>\n",
       "      <td>303.000000</td>\n",
       "      <td>303.000000</td>\n",
       "      <td>303.000000</td>\n",
       "      <td>303.000000</td>\n",
       "      <td>303.000000</td>\n",
       "      <td>303.000000</td>\n",
       "      <td>303.000000</td>\n",
       "      <td>303.000000</td>\n",
       "      <td>303.000000</td>\n",
       "      <td>303.000000</td>\n",
       "    </tr>\n",
       "    <tr>\n",
       "      <th>mean</th>\n",
       "      <td>54.438944</td>\n",
       "      <td>0.679868</td>\n",
       "      <td>3.158416</td>\n",
       "      <td>131.689769</td>\n",
       "      <td>246.693069</td>\n",
       "      <td>0.148515</td>\n",
       "      <td>0.990099</td>\n",
       "      <td>149.607261</td>\n",
       "      <td>0.326733</td>\n",
       "      <td>1.039604</td>\n",
       "      <td>1.600660</td>\n",
       "      <td>0.663366</td>\n",
       "      <td>4.722772</td>\n",
       "      <td>0.458746</td>\n",
       "    </tr>\n",
       "    <tr>\n",
       "      <th>std</th>\n",
       "      <td>9.038662</td>\n",
       "      <td>0.467299</td>\n",
       "      <td>0.960126</td>\n",
       "      <td>17.599748</td>\n",
       "      <td>51.776918</td>\n",
       "      <td>0.356198</td>\n",
       "      <td>0.994971</td>\n",
       "      <td>22.875003</td>\n",
       "      <td>0.469794</td>\n",
       "      <td>1.161075</td>\n",
       "      <td>0.616226</td>\n",
       "      <td>0.934375</td>\n",
       "      <td>1.938383</td>\n",
       "      <td>0.499120</td>\n",
       "    </tr>\n",
       "    <tr>\n",
       "      <th>min</th>\n",
       "      <td>29.000000</td>\n",
       "      <td>0.000000</td>\n",
       "      <td>1.000000</td>\n",
       "      <td>94.000000</td>\n",
       "      <td>126.000000</td>\n",
       "      <td>0.000000</td>\n",
       "      <td>0.000000</td>\n",
       "      <td>71.000000</td>\n",
       "      <td>0.000000</td>\n",
       "      <td>0.000000</td>\n",
       "      <td>1.000000</td>\n",
       "      <td>0.000000</td>\n",
       "      <td>3.000000</td>\n",
       "      <td>0.000000</td>\n",
       "    </tr>\n",
       "    <tr>\n",
       "      <th>25%</th>\n",
       "      <td>48.000000</td>\n",
       "      <td>0.000000</td>\n",
       "      <td>3.000000</td>\n",
       "      <td>120.000000</td>\n",
       "      <td>211.000000</td>\n",
       "      <td>0.000000</td>\n",
       "      <td>0.000000</td>\n",
       "      <td>133.500000</td>\n",
       "      <td>0.000000</td>\n",
       "      <td>0.000000</td>\n",
       "      <td>1.000000</td>\n",
       "      <td>0.000000</td>\n",
       "      <td>3.000000</td>\n",
       "      <td>0.000000</td>\n",
       "    </tr>\n",
       "    <tr>\n",
       "      <th>50%</th>\n",
       "      <td>56.000000</td>\n",
       "      <td>1.000000</td>\n",
       "      <td>3.000000</td>\n",
       "      <td>130.000000</td>\n",
       "      <td>241.000000</td>\n",
       "      <td>0.000000</td>\n",
       "      <td>1.000000</td>\n",
       "      <td>153.000000</td>\n",
       "      <td>0.000000</td>\n",
       "      <td>0.800000</td>\n",
       "      <td>2.000000</td>\n",
       "      <td>0.000000</td>\n",
       "      <td>3.000000</td>\n",
       "      <td>0.000000</td>\n",
       "    </tr>\n",
       "    <tr>\n",
       "      <th>75%</th>\n",
       "      <td>61.000000</td>\n",
       "      <td>1.000000</td>\n",
       "      <td>4.000000</td>\n",
       "      <td>140.000000</td>\n",
       "      <td>275.000000</td>\n",
       "      <td>0.000000</td>\n",
       "      <td>2.000000</td>\n",
       "      <td>166.000000</td>\n",
       "      <td>1.000000</td>\n",
       "      <td>1.600000</td>\n",
       "      <td>2.000000</td>\n",
       "      <td>1.000000</td>\n",
       "      <td>7.000000</td>\n",
       "      <td>1.000000</td>\n",
       "    </tr>\n",
       "    <tr>\n",
       "      <th>max</th>\n",
       "      <td>77.000000</td>\n",
       "      <td>1.000000</td>\n",
       "      <td>4.000000</td>\n",
       "      <td>200.000000</td>\n",
       "      <td>564.000000</td>\n",
       "      <td>1.000000</td>\n",
       "      <td>2.000000</td>\n",
       "      <td>202.000000</td>\n",
       "      <td>1.000000</td>\n",
       "      <td>6.200000</td>\n",
       "      <td>3.000000</td>\n",
       "      <td>3.000000</td>\n",
       "      <td>7.000000</td>\n",
       "      <td>1.000000</td>\n",
       "    </tr>\n",
       "  </tbody>\n",
       "</table>\n",
       "</div>"
      ],
      "text/plain": [
       "              age         sex          cp    trestbps        chol         fbs  \\\n",
       "count  303.000000  303.000000  303.000000  303.000000  303.000000  303.000000   \n",
       "mean    54.438944    0.679868    3.158416  131.689769  246.693069    0.148515   \n",
       "std      9.038662    0.467299    0.960126   17.599748   51.776918    0.356198   \n",
       "min     29.000000    0.000000    1.000000   94.000000  126.000000    0.000000   \n",
       "25%     48.000000    0.000000    3.000000  120.000000  211.000000    0.000000   \n",
       "50%     56.000000    1.000000    3.000000  130.000000  241.000000    0.000000   \n",
       "75%     61.000000    1.000000    4.000000  140.000000  275.000000    0.000000   \n",
       "max     77.000000    1.000000    4.000000  200.000000  564.000000    1.000000   \n",
       "\n",
       "          restecg     thalach       exang     oldpeak       slope          ca  \\\n",
       "count  303.000000  303.000000  303.000000  303.000000  303.000000  303.000000   \n",
       "mean     0.990099  149.607261    0.326733    1.039604    1.600660    0.663366   \n",
       "std      0.994971   22.875003    0.469794    1.161075    0.616226    0.934375   \n",
       "min      0.000000   71.000000    0.000000    0.000000    1.000000    0.000000   \n",
       "25%      0.000000  133.500000    0.000000    0.000000    1.000000    0.000000   \n",
       "50%      1.000000  153.000000    0.000000    0.800000    2.000000    0.000000   \n",
       "75%      2.000000  166.000000    1.000000    1.600000    2.000000    1.000000   \n",
       "max      2.000000  202.000000    1.000000    6.200000    3.000000    3.000000   \n",
       "\n",
       "             thal         num  \n",
       "count  303.000000  303.000000  \n",
       "mean     4.722772    0.458746  \n",
       "std      1.938383    0.499120  \n",
       "min      3.000000    0.000000  \n",
       "25%      3.000000    0.000000  \n",
       "50%      3.000000    0.000000  \n",
       "75%      7.000000    1.000000  \n",
       "max      7.000000    1.000000  "
      ]
     },
     "execution_count": 5,
     "metadata": {},
     "output_type": "execute_result"
    }
   ],
   "source": [
    "\n",
    "data.describe()"
   ]
  },
  {
   "cell_type": "markdown",
   "id": "dbf3f9a5-6c47-476c-8df9-d4b539407c98",
   "metadata": {},
   "source": [
    "In traditional heart disease datasets, thal is encoded as:\n",
    "\n",
    "1 = Normal\n",
    "2 = Fixed Defect\n",
    "3 = Reversible Defect\n",
    "\n",
    "But here, we have 3.0, 6.0, and 7.0, which are not standard."
   ]
  },
  {
   "cell_type": "code",
   "execution_count": 6,
   "id": "ed49226e-5666-48fa-8b91-80ac6d575a9b",
   "metadata": {},
   "outputs": [
    {
     "name": "stdout",
     "output_type": "stream",
     "text": [
      "UNIQUE VALUES IN THAL: [6. 3. 7.]\n",
      "\n",
      "Value counts:\n",
      " thal\n",
      "3.0    168\n",
      "7.0    117\n",
      "6.0     18\n",
      "Name: count, dtype: int64\n",
      "\n",
      "Average heart disease presence per thal type:\n",
      "thal\n",
      "3.0    22.619048\n",
      "6.0    66.666667\n",
      "7.0    76.068376\n",
      "Name: num, dtype: float64\n"
     ]
    }
   ],
   "source": [
    "# Show unique values and counts for 'thal' because we have unexpected values like 6 and 7.\n",
    "print(\"UNIQUE VALUES IN THAL:\", data['thal'].unique())\n",
    "\n",
    "# Count occurrences of each value\n",
    "print(\"\\nValue counts:\\n\", data['thal'].value_counts())\n",
    "\n",
    "# Check relation of 'thal' with 'num' (heart disease presence)\n",
    "print(\"\\nAverage heart disease presence per thal type:\")\n",
    "print(data.groupby('thal')['num'].mean() * 100)\n",
    "\n",
    "# Explanation of data.groupby('thal'):\n",
    "# Groups the data based on the 'thal' column (i.e., groups rows that have the same 'thal' value together).\n",
    "\n",
    "# Explanation of mean():\n",
    "# After grouping by 'thal', it calculates the mean of 'num' for each 'thal' group.\n",
    "# Since 'num' is the target variable (heart disease presence), this tells us \n",
    "# the percentage of people with heart disease for each 'thal' value.\n"
   ]
  },
  {
   "cell_type": "markdown",
   "id": "28c56a0f-eb2e-4ec1-b770-c6a89b7cb396",
   "metadata": {},
   "source": [
    "Reasons for One-Hot Encoding thal\n",
    "1️⃣ thal is a categorical variable (not continuous numbers).\n",
    "\n",
    "thal = 3.0, 6.0, 7.0 represents categories (types of thalassemia).\n",
    "A machine learning model treats numbers as continuous values, but these are not continuous (e.g., 6.0 is not twice as important as 3.0).\n",
    "To avoid incorrect assumptions, we use One-Hot Encoding.\n",
    "2️⃣ Prevents the Model from Assigning Wrong Relationships\n",
    "\n",
    "If we keep thal as 3.0, 6.0, 7.0, the model may assume that higher values mean more risk, which might not be true.\n",
    "One-Hot Encoding solves this by creating separate columns for each category.\n",
    "3️⃣ No Ordinal Relationship in thal\n",
    "\n",
    "Machine learning algorithms like Logistic Regression or Neural Networks treat numerical values as ordered (e.g., 6 > 3 means higher impact).\n",
    "But thal categories are just labels, not actual numbers.\n",
    "One-Hot Encoding prevents the model from assuming an order.\n"
   ]
  },
  {
   "cell_type": "markdown",
   "id": "cc2bf87b-715f-4567-9eb2-65b595bff7e9",
   "metadata": {},
   "source": [
    "# step  2  ONE HOT ENCODING TO THAL FEATURE : "
   ]
  },
  {
   "cell_type": "code",
   "execution_count": 7,
   "id": "7ae9a905-8962-4ef0-b784-7015a270edb8",
   "metadata": {},
   "outputs": [],
   "source": [
    "data  =  pd.get_dummies(data,  columns=['thal'] , prefix='thal')\n",
    "# but Pandas does not support converting boolean values directly to integers inside get_dummies()."
   ]
  },
  {
   "cell_type": "code",
   "execution_count": 8,
   "id": "8ed9957e-34e3-45de-9368-937762c508ed",
   "metadata": {},
   "outputs": [
    {
     "data": {
      "text/html": [
       "<div>\n",
       "<style scoped>\n",
       "    .dataframe tbody tr th:only-of-type {\n",
       "        vertical-align: middle;\n",
       "    }\n",
       "\n",
       "    .dataframe tbody tr th {\n",
       "        vertical-align: top;\n",
       "    }\n",
       "\n",
       "    .dataframe thead th {\n",
       "        text-align: right;\n",
       "    }\n",
       "</style>\n",
       "<table border=\"1\" class=\"dataframe\">\n",
       "  <thead>\n",
       "    <tr style=\"text-align: right;\">\n",
       "      <th></th>\n",
       "      <th>age</th>\n",
       "      <th>sex</th>\n",
       "      <th>cp</th>\n",
       "      <th>trestbps</th>\n",
       "      <th>chol</th>\n",
       "      <th>fbs</th>\n",
       "      <th>restecg</th>\n",
       "      <th>thalach</th>\n",
       "      <th>exang</th>\n",
       "      <th>oldpeak</th>\n",
       "      <th>slope</th>\n",
       "      <th>ca</th>\n",
       "      <th>num</th>\n",
       "      <th>thal_3.0</th>\n",
       "      <th>thal_6.0</th>\n",
       "      <th>thal_7.0</th>\n",
       "    </tr>\n",
       "  </thead>\n",
       "  <tbody>\n",
       "    <tr>\n",
       "      <th>0</th>\n",
       "      <td>63.0</td>\n",
       "      <td>1.0</td>\n",
       "      <td>1.0</td>\n",
       "      <td>145.0</td>\n",
       "      <td>233.0</td>\n",
       "      <td>1.0</td>\n",
       "      <td>2.0</td>\n",
       "      <td>150.0</td>\n",
       "      <td>0.0</td>\n",
       "      <td>2.3</td>\n",
       "      <td>3.0</td>\n",
       "      <td>0.0</td>\n",
       "      <td>0</td>\n",
       "      <td>False</td>\n",
       "      <td>True</td>\n",
       "      <td>False</td>\n",
       "    </tr>\n",
       "    <tr>\n",
       "      <th>1</th>\n",
       "      <td>67.0</td>\n",
       "      <td>1.0</td>\n",
       "      <td>4.0</td>\n",
       "      <td>160.0</td>\n",
       "      <td>286.0</td>\n",
       "      <td>0.0</td>\n",
       "      <td>2.0</td>\n",
       "      <td>108.0</td>\n",
       "      <td>1.0</td>\n",
       "      <td>1.5</td>\n",
       "      <td>2.0</td>\n",
       "      <td>3.0</td>\n",
       "      <td>1</td>\n",
       "      <td>True</td>\n",
       "      <td>False</td>\n",
       "      <td>False</td>\n",
       "    </tr>\n",
       "    <tr>\n",
       "      <th>2</th>\n",
       "      <td>67.0</td>\n",
       "      <td>1.0</td>\n",
       "      <td>4.0</td>\n",
       "      <td>120.0</td>\n",
       "      <td>229.0</td>\n",
       "      <td>0.0</td>\n",
       "      <td>2.0</td>\n",
       "      <td>129.0</td>\n",
       "      <td>1.0</td>\n",
       "      <td>2.6</td>\n",
       "      <td>2.0</td>\n",
       "      <td>2.0</td>\n",
       "      <td>1</td>\n",
       "      <td>False</td>\n",
       "      <td>False</td>\n",
       "      <td>True</td>\n",
       "    </tr>\n",
       "    <tr>\n",
       "      <th>3</th>\n",
       "      <td>37.0</td>\n",
       "      <td>1.0</td>\n",
       "      <td>3.0</td>\n",
       "      <td>130.0</td>\n",
       "      <td>250.0</td>\n",
       "      <td>0.0</td>\n",
       "      <td>0.0</td>\n",
       "      <td>187.0</td>\n",
       "      <td>0.0</td>\n",
       "      <td>3.5</td>\n",
       "      <td>3.0</td>\n",
       "      <td>0.0</td>\n",
       "      <td>0</td>\n",
       "      <td>True</td>\n",
       "      <td>False</td>\n",
       "      <td>False</td>\n",
       "    </tr>\n",
       "    <tr>\n",
       "      <th>4</th>\n",
       "      <td>41.0</td>\n",
       "      <td>0.0</td>\n",
       "      <td>2.0</td>\n",
       "      <td>130.0</td>\n",
       "      <td>204.0</td>\n",
       "      <td>0.0</td>\n",
       "      <td>2.0</td>\n",
       "      <td>172.0</td>\n",
       "      <td>0.0</td>\n",
       "      <td>1.4</td>\n",
       "      <td>1.0</td>\n",
       "      <td>0.0</td>\n",
       "      <td>0</td>\n",
       "      <td>True</td>\n",
       "      <td>False</td>\n",
       "      <td>False</td>\n",
       "    </tr>\n",
       "  </tbody>\n",
       "</table>\n",
       "</div>"
      ],
      "text/plain": [
       "    age  sex   cp  trestbps   chol  fbs  restecg  thalach  exang  oldpeak  \\\n",
       "0  63.0  1.0  1.0     145.0  233.0  1.0      2.0    150.0    0.0      2.3   \n",
       "1  67.0  1.0  4.0     160.0  286.0  0.0      2.0    108.0    1.0      1.5   \n",
       "2  67.0  1.0  4.0     120.0  229.0  0.0      2.0    129.0    1.0      2.6   \n",
       "3  37.0  1.0  3.0     130.0  250.0  0.0      0.0    187.0    0.0      3.5   \n",
       "4  41.0  0.0  2.0     130.0  204.0  0.0      2.0    172.0    0.0      1.4   \n",
       "\n",
       "   slope   ca  num  thal_3.0  thal_6.0  thal_7.0  \n",
       "0    3.0  0.0    0     False      True     False  \n",
       "1    2.0  3.0    1      True     False     False  \n",
       "2    2.0  2.0    1     False     False      True  \n",
       "3    3.0  0.0    0      True     False     False  \n",
       "4    1.0  0.0    0      True     False     False  "
      ]
     },
     "execution_count": 8,
     "metadata": {},
     "output_type": "execute_result"
    }
   ],
   "source": [
    "data.head()"
   ]
  },
  {
   "cell_type": "markdown",
   "id": "7152fee8-549a-4990-b9db-44ccbc269dc7",
   "metadata": {},
   "source": [
    "# Convert Booleans of Thal to Integers After Encoding"
   ]
  },
  {
   "cell_type": "code",
   "execution_count": 9,
   "id": "b9a48c00-6ac7-4cbf-9122-5f046a7de591",
   "metadata": {},
   "outputs": [],
   "source": [
    "data = data.astype('int64')\n",
    "data.iloc[: , 13 :] = data.iloc[: , 13 : ].astype('int64')"
   ]
  },
  {
   "cell_type": "code",
   "execution_count": 10,
   "id": "3542afbe-52ab-4e9e-ae13-5fde36d483a5",
   "metadata": {},
   "outputs": [
    {
     "data": {
      "text/html": [
       "<div>\n",
       "<style scoped>\n",
       "    .dataframe tbody tr th:only-of-type {\n",
       "        vertical-align: middle;\n",
       "    }\n",
       "\n",
       "    .dataframe tbody tr th {\n",
       "        vertical-align: top;\n",
       "    }\n",
       "\n",
       "    .dataframe thead th {\n",
       "        text-align: right;\n",
       "    }\n",
       "</style>\n",
       "<table border=\"1\" class=\"dataframe\">\n",
       "  <thead>\n",
       "    <tr style=\"text-align: right;\">\n",
       "      <th></th>\n",
       "      <th>age</th>\n",
       "      <th>sex</th>\n",
       "      <th>cp</th>\n",
       "      <th>trestbps</th>\n",
       "      <th>chol</th>\n",
       "      <th>fbs</th>\n",
       "      <th>restecg</th>\n",
       "      <th>thalach</th>\n",
       "      <th>exang</th>\n",
       "      <th>oldpeak</th>\n",
       "      <th>slope</th>\n",
       "      <th>ca</th>\n",
       "      <th>num</th>\n",
       "      <th>thal_3.0</th>\n",
       "      <th>thal_6.0</th>\n",
       "      <th>thal_7.0</th>\n",
       "    </tr>\n",
       "  </thead>\n",
       "  <tbody>\n",
       "    <tr>\n",
       "      <th>0</th>\n",
       "      <td>63</td>\n",
       "      <td>1</td>\n",
       "      <td>1</td>\n",
       "      <td>145</td>\n",
       "      <td>233</td>\n",
       "      <td>1</td>\n",
       "      <td>2</td>\n",
       "      <td>150</td>\n",
       "      <td>0</td>\n",
       "      <td>2</td>\n",
       "      <td>3</td>\n",
       "      <td>0</td>\n",
       "      <td>0</td>\n",
       "      <td>0</td>\n",
       "      <td>1</td>\n",
       "      <td>0</td>\n",
       "    </tr>\n",
       "    <tr>\n",
       "      <th>1</th>\n",
       "      <td>67</td>\n",
       "      <td>1</td>\n",
       "      <td>4</td>\n",
       "      <td>160</td>\n",
       "      <td>286</td>\n",
       "      <td>0</td>\n",
       "      <td>2</td>\n",
       "      <td>108</td>\n",
       "      <td>1</td>\n",
       "      <td>1</td>\n",
       "      <td>2</td>\n",
       "      <td>3</td>\n",
       "      <td>1</td>\n",
       "      <td>1</td>\n",
       "      <td>0</td>\n",
       "      <td>0</td>\n",
       "    </tr>\n",
       "    <tr>\n",
       "      <th>2</th>\n",
       "      <td>67</td>\n",
       "      <td>1</td>\n",
       "      <td>4</td>\n",
       "      <td>120</td>\n",
       "      <td>229</td>\n",
       "      <td>0</td>\n",
       "      <td>2</td>\n",
       "      <td>129</td>\n",
       "      <td>1</td>\n",
       "      <td>2</td>\n",
       "      <td>2</td>\n",
       "      <td>2</td>\n",
       "      <td>1</td>\n",
       "      <td>0</td>\n",
       "      <td>0</td>\n",
       "      <td>1</td>\n",
       "    </tr>\n",
       "    <tr>\n",
       "      <th>3</th>\n",
       "      <td>37</td>\n",
       "      <td>1</td>\n",
       "      <td>3</td>\n",
       "      <td>130</td>\n",
       "      <td>250</td>\n",
       "      <td>0</td>\n",
       "      <td>0</td>\n",
       "      <td>187</td>\n",
       "      <td>0</td>\n",
       "      <td>3</td>\n",
       "      <td>3</td>\n",
       "      <td>0</td>\n",
       "      <td>0</td>\n",
       "      <td>1</td>\n",
       "      <td>0</td>\n",
       "      <td>0</td>\n",
       "    </tr>\n",
       "    <tr>\n",
       "      <th>4</th>\n",
       "      <td>41</td>\n",
       "      <td>0</td>\n",
       "      <td>2</td>\n",
       "      <td>130</td>\n",
       "      <td>204</td>\n",
       "      <td>0</td>\n",
       "      <td>2</td>\n",
       "      <td>172</td>\n",
       "      <td>0</td>\n",
       "      <td>1</td>\n",
       "      <td>1</td>\n",
       "      <td>0</td>\n",
       "      <td>0</td>\n",
       "      <td>1</td>\n",
       "      <td>0</td>\n",
       "      <td>0</td>\n",
       "    </tr>\n",
       "  </tbody>\n",
       "</table>\n",
       "</div>"
      ],
      "text/plain": [
       "   age  sex  cp  trestbps  chol  fbs  restecg  thalach  exang  oldpeak  slope  \\\n",
       "0   63    1   1       145   233    1        2      150      0        2      3   \n",
       "1   67    1   4       160   286    0        2      108      1        1      2   \n",
       "2   67    1   4       120   229    0        2      129      1        2      2   \n",
       "3   37    1   3       130   250    0        0      187      0        3      3   \n",
       "4   41    0   2       130   204    0        2      172      0        1      1   \n",
       "\n",
       "   ca  num  thal_3.0  thal_6.0  thal_7.0  \n",
       "0   0    0         0         1         0  \n",
       "1   3    1         1         0         0  \n",
       "2   2    1         0         0         1  \n",
       "3   0    0         1         0         0  \n",
       "4   0    0         1         0         0  "
      ]
     },
     "execution_count": 10,
     "metadata": {},
     "output_type": "execute_result"
    }
   ],
   "source": [
    "data.head()"
   ]
  },
  {
   "cell_type": "markdown",
   "id": "4317c7b6-f511-4892-98e6-bd31c00d7984",
   "metadata": {},
   "source": [
    "# Step 3: Handle Other Categorical Features (If Any)"
   ]
  },
  {
   "cell_type": "code",
   "execution_count": 11,
   "id": "1d8c1b41-64af-4396-a434-a919b4bccff4",
   "metadata": {},
   "outputs": [
    {
     "name": "stdout",
     "output_type": "stream",
     "text": [
      "<class 'pandas.core.frame.DataFrame'>\n",
      "RangeIndex: 303 entries, 0 to 302\n",
      "Data columns (total 16 columns):\n",
      " #   Column    Non-Null Count  Dtype\n",
      "---  ------    --------------  -----\n",
      " 0   age       303 non-null    int64\n",
      " 1   sex       303 non-null    int64\n",
      " 2   cp        303 non-null    int64\n",
      " 3   trestbps  303 non-null    int64\n",
      " 4   chol      303 non-null    int64\n",
      " 5   fbs       303 non-null    int64\n",
      " 6   restecg   303 non-null    int64\n",
      " 7   thalach   303 non-null    int64\n",
      " 8   exang     303 non-null    int64\n",
      " 9   oldpeak   303 non-null    int64\n",
      " 10  slope     303 non-null    int64\n",
      " 11  ca        303 non-null    int64\n",
      " 12  num       303 non-null    int64\n",
      " 13  thal_3.0  303 non-null    int64\n",
      " 14  thal_6.0  303 non-null    int64\n",
      " 15  thal_7.0  303 non-null    int64\n",
      "dtypes: int64(16)\n",
      "memory usage: 38.0 KB\n"
     ]
    }
   ],
   "source": [
    "data.info()"
   ]
  },
  {
   "cell_type": "code",
   "execution_count": 12,
   "id": "822b5f94-cde3-46b7-ad82-aeb5976f1235",
   "metadata": {
    "scrolled": true
   },
   "outputs": [
    {
     "name": "stdout",
     "output_type": "stream",
     "text": [
      "Index([], dtype='object')\n"
     ]
    }
   ],
   "source": [
    "# If there are no object-type columns, it will return an empty list.\n",
    "\n",
    "obj_col = data.select_dtypes(include= ['object']).columns\n",
    "print(obj_col)"
   ]
  },
  {
   "cell_type": "code",
   "execution_count": null,
   "id": "754762cd-b4bd-46ef-ada6-97abdd2e4184",
   "metadata": {},
   "outputs": [],
   "source": []
  },
  {
   "cell_type": "markdown",
   "id": "73c71436-ccb4-438e-bf25-8d38737254f9",
   "metadata": {},
   "source": [
    "# CHECK FOR MISSING VALUES :"
   ]
  },
  {
   "cell_type": "code",
   "execution_count": 13,
   "id": "6910309a-4ba3-425a-b5b1-0aaec6f7187f",
   "metadata": {},
   "outputs": [
    {
     "data": {
      "text/plain": [
       "age         0\n",
       "sex         0\n",
       "cp          0\n",
       "trestbps    0\n",
       "chol        0\n",
       "fbs         0\n",
       "restecg     0\n",
       "thalach     0\n",
       "exang       0\n",
       "oldpeak     0\n",
       "slope       0\n",
       "ca          0\n",
       "num         0\n",
       "thal_3.0    0\n",
       "thal_6.0    0\n",
       "thal_7.0    0\n",
       "dtype: int64"
      ]
     },
     "execution_count": 13,
     "metadata": {},
     "output_type": "execute_result"
    }
   ],
   "source": [
    "data.isnull().sum()"
   ]
  },
  {
   "cell_type": "markdown",
   "id": "e2e28f54-83ea-423b-817e-10533486f372",
   "metadata": {},
   "source": [
    "# Scale numerical features "
   ]
  },
  {
   "cell_type": "markdown",
   "id": "26f3b8b5-0943-4b41-a6d0-35b049042bd3",
   "metadata": {},
   "source": [
    "Which Scaling to Choose?\n",
    "\n",
    "Scaling Method\tWhen to Use?\n",
    "\n",
    "Min-Max Scaling (0-1)\tIf data does not follow a normal distribution. Works best for deep learning models (ANNs).\n",
    "\n",
    "Standardization (Z-score)\tIf data follows a normal distribution. Works well for SVM, logistic regression, linear regression.\n",
    "\n",
    "Robust Scaling\tIf data has outliers that affect mean and standard deviation.\n",
    "\n",
    "MaxAbs Scaling\tIf data is sparse (e.g., text data, TF-IDF)."
   ]
  },
  {
   "cell_type": "markdown",
   "id": "b15fbb56-e639-4b18-9f49-c06eeea00b38",
   "metadata": {},
   "source": [
    "#  WHY WE CHOOSE MINI MAX SCALAR ? :\n",
    "\n",
    "After Min-Max scaling, values remain between 0 and 1, making them easier to interpret.\n",
    "\n",
    "Example: If age = 0.8, it means the person’s age is in the upper 80% of the dataset.\n",
    "    \n",
    "StandardScaler transforms data into a Z-score (-3 to +3), which is harder to interpret.\n",
    "\n",
    "Our Data Doesn't Follow a Normal Distribution  \n",
    "\n",
    "Neural Networks Work Best with Min-Max Scaling"
   ]
  },
  {
   "cell_type": "code",
   "execution_count": 14,
   "id": "92ca6d41-198c-49d0-a387-3096eac5298a",
   "metadata": {},
   "outputs": [
    {
     "name": "stdout",
     "output_type": "stream",
     "text": [
      "        age  sex  cp  trestbps      chol  fbs  restecg   thalach  exang  \\\n",
      "0  0.708333    1   1  0.481132  0.244292    1        2  0.603053      0   \n",
      "1  0.791667    1   4  0.622642  0.365297    0        2  0.282443      1   \n",
      "2  0.791667    1   4  0.245283  0.235160    0        2  0.442748      1   \n",
      "3  0.166667    1   3  0.339623  0.283105    0        0  0.885496      0   \n",
      "4  0.250000    0   2  0.339623  0.178082    0        2  0.770992      0   \n",
      "\n",
      "    oldpeak  slope        ca  num  thal_3.0  thal_6.0  thal_7.0  \n",
      "0  0.333333      3  0.000000    0         0         1         0  \n",
      "1  0.166667      2  1.000000    1         1         0         0  \n",
      "2  0.333333      2  0.666667    1         0         0         1  \n",
      "3  0.500000      3  0.000000    0         1         0         0  \n",
      "4  0.166667      1  0.000000    0         1         0         0  \n"
     ]
    },
    {
     "data": {
      "text/plain": [
       "['scaler.pkl']"
      ]
     },
     "execution_count": 14,
     "metadata": {},
     "output_type": "execute_result"
    }
   ],
   "source": [
    "import joblib\n",
    "from sklearn.preprocessing import MinMaxScaler\n",
    "\n",
    "# Apply scaling\n",
    "scaler = MinMaxScaler()\n",
    "scal_feat = ['age', 'trestbps', 'chol', 'thalach', 'oldpeak', 'ca']\n",
    "data[scal_feat] = scaler.fit_transform(data[scal_feat])\n",
    "print(data.head())\n",
    "\n",
    "# Save the scaler\n",
    "joblib.dump(scaler, \"scaler.pkl\")\n"
   ]
  },
  {
   "cell_type": "markdown",
   "id": "b0df2acd-4579-4a0e-8df4-7d15d225fe77",
   "metadata": {},
   "source": [
    "#  DATA SPLITTING"
   ]
  },
  {
   "cell_type": "code",
   "execution_count": 15,
   "id": "d63afb6d-9510-454a-89e8-744d83a17cf7",
   "metadata": {},
   "outputs": [],
   "source": [
    "X = data.drop(columns=['num'])\n",
    "y = data['num']"
   ]
  },
  {
   "cell_type": "code",
   "execution_count": 16,
   "id": "783086e3-b4ab-4916-8925-91826eabb902",
   "metadata": {},
   "outputs": [
    {
     "name": "stdout",
     "output_type": "stream",
     "text": [
      "Training set shape: (272, 15) (272,)\n",
      "Testing set shape: (31, 15) (31,)\n"
     ]
    }
   ],
   "source": [
    "X_train, X_test, y_train, y_test = train_test_split(X, y, test_size=0.1, random_state=42)\n",
    "\n",
    "# Print Shapes\n",
    "print(\"Training set shape:\", X_train.shape, y_train.shape)\n",
    "print(\"Testing set shape:\", X_test.shape, y_test.shape)\n"
   ]
  },
  {
   "cell_type": "markdown",
   "id": "942f67c4-b45d-4c89-b8b6-82975c989322",
   "metadata": {},
   "source": [
    "# BUILDING THE MODEL"
   ]
  },
  {
   "cell_type": "markdown",
   "id": "42f9f85d-8dca-4345-bdf0-106bff6bcbe3",
   "metadata": {},
   "source": [
    " We'll use a Sequential model with three layers:\n",
    "\n",
    "  Since our ANN is a simple stack of layers (input → hidden → output), Sequential is the best choice.\n",
    " \n",
    "Input Layer: Number of neurons = number of features (15)\n",
    "\n",
    "Hidden Layer: 10 neurons, activation = ReLU\n",
    "\n",
    "Output Layer: 1 neuron, activation = Sigmoid (since it's binary classification)"
   ]
  },
  {
   "cell_type": "markdown",
   "id": "e2f53deb-f2ea-46fd-be69-041a894eee20",
   "metadata": {},
   "source": [
    "General Rules for Choosing Hidden Neurons\n",
    "\n",
    "Between input and output size:\n",
    "\n",
    "We have 15 input features and 1 output neuron.\n",
    "\n",
    "A common rule is to choose a hidden layer size between these two.\n",
    "\n",
    "We selected 10 neurons as a starting point.\n",
    "\n",
    "Empirical Testing:\n",
    "\n",
    "If the model underfits (low accuracy), we increase neurons.\n",
    "\n",
    "If it overfits (high training accuracy, low test accuracy), we reduce neurons.\n",
    "\n",
    "👉 10 neurons is a good balance to start with, but we can adjust later if needed."
   ]
  },
  {
   "cell_type": "code",
   "execution_count": 17,
   "id": "518df293-e46e-4a80-a057-448fab9349a6",
   "metadata": {},
   "outputs": [
    {
     "data": {
      "text/plain": [
       "15"
      ]
     },
     "execution_count": 17,
     "metadata": {},
     "output_type": "execute_result"
    }
   ],
   "source": [
    "X_train.shape[1]"
   ]
  },
  {
   "cell_type": "markdown",
   "id": "46802175-8985-4a20-bb0c-d86425602233",
   "metadata": {},
   "source": [
    "#  Define the ANN Model\n"
   ]
  },
  {
   "cell_type": "code",
   "execution_count": 18,
   "id": "3dcabb8e-2d4e-4f56-b948-09a2c66a7322",
   "metadata": {},
   "outputs": [
    {
     "name": "stderr",
     "output_type": "stream",
     "text": [
      "C:\\Users\\syedm\\AppData\\Local\\Programs\\Python\\Python311\\Lib\\site-packages\\keras\\src\\layers\\core\\dense.py:87: UserWarning: Do not pass an `input_shape`/`input_dim` argument to a layer. When using Sequential models, prefer using an `Input(shape)` object as the first layer in the model instead.\n",
      "  super().__init__(activity_regularizer=activity_regularizer, **kwargs)\n"
     ]
    }
   ],
   "source": [
    "#from tensorflow.keras.regularizers import l2\n",
    "\n",
    "model =  Sequential([\n",
    "    Dense(128, activation='relu'  , input_shape = (X_train.shape[1],) ),  #HIDEEN LAYER SPECIFYIN INPUT \n",
    "    Dense(64, activation='relu' ),\n",
    "    Dense(10, activation='relu' ),\n",
    "    Dense(1 , activation = 'sigmoid') # Output Layer (Sigmoid for binary classification)\n",
    "])"
   ]
  },
  {
   "cell_type": "markdown",
   "id": "03f8a19a-fac9-4d8c-91bb-26522c3d2f49",
   "metadata": {},
   "source": [
    " # Compile the Model"
   ]
  },
  {
   "cell_type": "markdown",
   "id": "6510cb52-d927-4e88-8fbd-cb71bf0f16ba",
   "metadata": {},
   "source": [
    "Binary Crossentropy as the loss function (since it's binary classification)\n",
    "                                          \n",
    "Adam optimizer for training\n",
    "                                          \n",
    "Accuracy as the evaluation metric"
   ]
  },
  {
   "cell_type": "code",
   "execution_count": 19,
   "id": "67b4b8a7-bba7-478f-88d7-247fdbd2b4d7",
   "metadata": {},
   "outputs": [],
   "source": [
    "\n",
    "\n",
    "model.compile(optimizer='adam', loss='binary_crossentropy', metrics=['accuracy'])\n"
   ]
  },
  {
   "cell_type": "markdown",
   "id": "1bd2866e-f993-45aa-bfd0-8f0a54aa3e91",
   "metadata": {},
   "source": [
    "#  Train the Model"
   ]
  },
  {
   "cell_type": "code",
   "execution_count": 20,
   "id": "a8318397-85a1-4dd0-9dba-55d653733432",
   "metadata": {},
   "outputs": [
    {
     "name": "stdout",
     "output_type": "stream",
     "text": [
      "Epoch 1/60\n",
      "\u001b[1m28/28\u001b[0m \u001b[32m━━━━━━━━━━━━━━━━━━━━\u001b[0m\u001b[37m\u001b[0m \u001b[1m4s\u001b[0m 30ms/step - accuracy: 0.5716 - loss: 0.7090 - val_accuracy: 0.9032 - val_loss: 0.5578\n",
      "Epoch 2/60\n",
      "\u001b[1m28/28\u001b[0m \u001b[32m━━━━━━━━━━━━━━━━━━━━\u001b[0m\u001b[37m\u001b[0m \u001b[1m0s\u001b[0m 15ms/step - accuracy: 0.7351 - loss: 0.5698 - val_accuracy: 0.9032 - val_loss: 0.4119\n",
      "Epoch 3/60\n",
      "\u001b[1m28/28\u001b[0m \u001b[32m━━━━━━━━━━━━━━━━━━━━\u001b[0m\u001b[37m\u001b[0m \u001b[1m0s\u001b[0m 14ms/step - accuracy: 0.7755 - loss: 0.5015 - val_accuracy: 0.9355 - val_loss: 0.3136\n",
      "Epoch 4/60\n",
      "\u001b[1m28/28\u001b[0m \u001b[32m━━━━━━━━━━━━━━━━━━━━\u001b[0m\u001b[37m\u001b[0m \u001b[1m1s\u001b[0m 31ms/step - accuracy: 0.8245 - loss: 0.4167 - val_accuracy: 0.9032 - val_loss: 0.2902\n",
      "Epoch 5/60\n",
      "\u001b[1m28/28\u001b[0m \u001b[32m━━━━━━━━━━━━━━━━━━━━\u001b[0m\u001b[37m\u001b[0m \u001b[1m0s\u001b[0m 11ms/step - accuracy: 0.7995 - loss: 0.4294 - val_accuracy: 0.9032 - val_loss: 0.2760\n",
      "Epoch 6/60\n",
      "\u001b[1m28/28\u001b[0m \u001b[32m━━━━━━━━━━━━━━━━━━━━\u001b[0m\u001b[37m\u001b[0m \u001b[1m0s\u001b[0m 14ms/step - accuracy: 0.8355 - loss: 0.3945 - val_accuracy: 0.8710 - val_loss: 0.2513\n",
      "Epoch 7/60\n",
      "\u001b[1m28/28\u001b[0m \u001b[32m━━━━━━━━━━━━━━━━━━━━\u001b[0m\u001b[37m\u001b[0m \u001b[1m0s\u001b[0m 14ms/step - accuracy: 0.8244 - loss: 0.4066 - val_accuracy: 0.8710 - val_loss: 0.2568\n",
      "Epoch 8/60\n",
      "\u001b[1m28/28\u001b[0m \u001b[32m━━━━━━━━━━━━━━━━━━━━\u001b[0m\u001b[37m\u001b[0m \u001b[1m0s\u001b[0m 12ms/step - accuracy: 0.8505 - loss: 0.3580 - val_accuracy: 0.8710 - val_loss: 0.2513\n",
      "Epoch 9/60\n",
      "\u001b[1m28/28\u001b[0m \u001b[32m━━━━━━━━━━━━━━━━━━━━\u001b[0m\u001b[37m\u001b[0m \u001b[1m0s\u001b[0m 11ms/step - accuracy: 0.8655 - loss: 0.3447 - val_accuracy: 0.8710 - val_loss: 0.2733\n",
      "Epoch 10/60\n",
      "\u001b[1m28/28\u001b[0m \u001b[32m━━━━━━━━━━━━━━━━━━━━\u001b[0m\u001b[37m\u001b[0m \u001b[1m1s\u001b[0m 20ms/step - accuracy: 0.8598 - loss: 0.3444 - val_accuracy: 0.8387 - val_loss: 0.2680\n",
      "Epoch 11/60\n",
      "\u001b[1m28/28\u001b[0m \u001b[32m━━━━━━━━━━━━━━━━━━━━\u001b[0m\u001b[37m\u001b[0m \u001b[1m0s\u001b[0m 15ms/step - accuracy: 0.8706 - loss: 0.3434 - val_accuracy: 0.9032 - val_loss: 0.2755\n",
      "Epoch 12/60\n",
      "\u001b[1m28/28\u001b[0m \u001b[32m━━━━━━━━━━━━━━━━━━━━\u001b[0m\u001b[37m\u001b[0m \u001b[1m0s\u001b[0m 12ms/step - accuracy: 0.8920 - loss: 0.3072 - val_accuracy: 0.8387 - val_loss: 0.2786\n",
      "Epoch 13/60\n",
      "\u001b[1m28/28\u001b[0m \u001b[32m━━━━━━━━━━━━━━━━━━━━\u001b[0m\u001b[37m\u001b[0m \u001b[1m0s\u001b[0m 11ms/step - accuracy: 0.8447 - loss: 0.3734 - val_accuracy: 0.9032 - val_loss: 0.2816\n",
      "Epoch 14/60\n",
      "\u001b[1m28/28\u001b[0m \u001b[32m━━━━━━━━━━━━━━━━━━━━\u001b[0m\u001b[37m\u001b[0m \u001b[1m0s\u001b[0m 12ms/step - accuracy: 0.8456 - loss: 0.3514 - val_accuracy: 0.8387 - val_loss: 0.2809\n",
      "Epoch 15/60\n",
      "\u001b[1m28/28\u001b[0m \u001b[32m━━━━━━━━━━━━━━━━━━━━\u001b[0m\u001b[37m\u001b[0m \u001b[1m0s\u001b[0m 12ms/step - accuracy: 0.8622 - loss: 0.3302 - val_accuracy: 0.9032 - val_loss: 0.2950\n",
      "Epoch 16/60\n",
      "\u001b[1m28/28\u001b[0m \u001b[32m━━━━━━━━━━━━━━━━━━━━\u001b[0m\u001b[37m\u001b[0m \u001b[1m0s\u001b[0m 11ms/step - accuracy: 0.8972 - loss: 0.2926 - val_accuracy: 0.8710 - val_loss: 0.2850\n",
      "Epoch 17/60\n",
      "\u001b[1m28/28\u001b[0m \u001b[32m━━━━━━━━━━━━━━━━━━━━\u001b[0m\u001b[37m\u001b[0m \u001b[1m0s\u001b[0m 11ms/step - accuracy: 0.8688 - loss: 0.3092 - val_accuracy: 0.9032 - val_loss: 0.3197\n",
      "Epoch 18/60\n",
      "\u001b[1m28/28\u001b[0m \u001b[32m━━━━━━━━━━━━━━━━━━━━\u001b[0m\u001b[37m\u001b[0m \u001b[1m0s\u001b[0m 12ms/step - accuracy: 0.8322 - loss: 0.3666 - val_accuracy: 0.9032 - val_loss: 0.3176\n",
      "Epoch 19/60\n",
      "\u001b[1m28/28\u001b[0m \u001b[32m━━━━━━━━━━━━━━━━━━━━\u001b[0m\u001b[37m\u001b[0m \u001b[1m0s\u001b[0m 12ms/step - accuracy: 0.8644 - loss: 0.3207 - val_accuracy: 0.8710 - val_loss: 0.2998\n",
      "Epoch 20/60\n",
      "\u001b[1m28/28\u001b[0m \u001b[32m━━━━━━━━━━━━━━━━━━━━\u001b[0m\u001b[37m\u001b[0m \u001b[1m0s\u001b[0m 12ms/step - accuracy: 0.9080 - loss: 0.2625 - val_accuracy: 0.8710 - val_loss: 0.2933\n",
      "Epoch 21/60\n",
      "\u001b[1m28/28\u001b[0m \u001b[32m━━━━━━━━━━━━━━━━━━━━\u001b[0m\u001b[37m\u001b[0m \u001b[1m0s\u001b[0m 11ms/step - accuracy: 0.8713 - loss: 0.3060 - val_accuracy: 0.9032 - val_loss: 0.3216\n",
      "Epoch 22/60\n",
      "\u001b[1m28/28\u001b[0m \u001b[32m━━━━━━━━━━━━━━━━━━━━\u001b[0m\u001b[37m\u001b[0m \u001b[1m0s\u001b[0m 11ms/step - accuracy: 0.9162 - loss: 0.2601 - val_accuracy: 0.9032 - val_loss: 0.3521\n",
      "Epoch 23/60\n",
      "\u001b[1m28/28\u001b[0m \u001b[32m━━━━━━━━━━━━━━━━━━━━\u001b[0m\u001b[37m\u001b[0m \u001b[1m0s\u001b[0m 11ms/step - accuracy: 0.8733 - loss: 0.2794 - val_accuracy: 0.8710 - val_loss: 0.3228\n"
     ]
    }
   ],
   "source": [
    "#By checking accuracy/loss on X_test, y_test, we can detect overfitting early.\n",
    "## Define the callback function\n",
    "early_stopping = EarlyStopping(patience= 15)\n",
    "history = model.fit(X_train , y_train , epochs = 60, batch_size = 10 , validation_data= (X_test , y_test) , callbacks=[early_stopping])"
   ]
  },
  {
   "cell_type": "markdown",
   "id": "b73e3a24-67b7-4175-9c5c-25b0d306c357",
   "metadata": {},
   "source": [
    "# 1. Evaluate the Model Performance on Test Data\n"
   ]
  },
  {
   "cell_type": "code",
   "execution_count": 21,
   "id": "277483b8-dcd9-418c-80a1-0a7fb8d215fe",
   "metadata": {},
   "outputs": [
    {
     "name": "stdout",
     "output_type": "stream",
     "text": [
      "\u001b[1m1/1\u001b[0m \u001b[32m━━━━━━━━━━━━━━━━━━━━\u001b[0m\u001b[37m\u001b[0m \u001b[1m0s\u001b[0m 106ms/step - accuracy: 0.8710 - loss: 0.3228\n",
      "Testing acuuracy : 87.09677457809448\n",
      "Testing Loss : 32.281723618507385\n"
     ]
    }
   ],
   "source": [
    "test_loss , test_accuracy = model.evaluate(X_test ,  y_test)\n",
    "print(f'Testing acuuracy : {test_accuracy*100:}')\n",
    "print(f'Testing Loss : {test_loss*100:}')"
   ]
  },
  {
   "cell_type": "code",
   "execution_count": 22,
   "id": "c0dca726-cba3-4547-a8a3-5d8f997fdac4",
   "metadata": {},
   "outputs": [
    {
     "name": "stdout",
     "output_type": "stream",
     "text": [
      "Final Training Accuracy: 88.23529481887817\n",
      "Final Validation Accuracy: 87.09677457809448\n"
     ]
    }
   ],
   "source": [
    "train_acc = history.history['accuracy'][-1]\n",
    "val_acc = history.history['val_accuracy'][-1]\n",
    "\n",
    "print(f\"Final Training Accuracy: {train_acc *100 :}\")\n",
    "print(f\"Final Validation Accuracy: {val_acc *100:}\")\n"
   ]
  },
  {
   "cell_type": "markdown",
   "id": "49067418-7c28-43a8-81c7-40906ba0ffe6",
   "metadata": {},
   "source": [
    "#  Generate Predictions on Test Data"
   ]
  },
  {
   "cell_type": "code",
   "execution_count": 23,
   "id": "c159a24e-446c-43a8-967c-9943b83d70f8",
   "metadata": {},
   "outputs": [
    {
     "name": "stdout",
     "output_type": "stream",
     "text": [
      "\u001b[1m1/1\u001b[0m \u001b[32m━━━━━━━━━━━━━━━━━━━━\u001b[0m\u001b[37m\u001b[0m \u001b[1m0s\u001b[0m 213ms/step\n",
      "Predicted: 1, Actual: 0\n",
      "Predicted: 1, Actual: 1\n",
      "Predicted: 1, Actual: 1\n",
      "Predicted: 0, Actual: 1\n",
      "Predicted: 1, Actual: 1\n",
      "Predicted: 1, Actual: 1\n",
      "Predicted: 1, Actual: 1\n",
      "Predicted: 1, Actual: 1\n",
      "Predicted: 0, Actual: 1\n",
      "Predicted: 1, Actual: 0\n",
      "Predicted: 0, Actual: 0\n",
      "Predicted: 0, Actual: 0\n",
      "Predicted: 1, Actual: 1\n",
      "Predicted: 1, Actual: 1\n",
      "Predicted: 1, Actual: 1\n",
      "Predicted: 0, Actual: 0\n",
      "Predicted: 0, Actual: 0\n",
      "Predicted: 1, Actual: 1\n",
      "Predicted: 1, Actual: 1\n",
      "Predicted: 0, Actual: 0\n"
     ]
    }
   ],
   "source": [
    "# Make predictions\n",
    "y_pred = model.predict(X_test)\n",
    "\n",
    "#Since my model is using sigmoid activation in the output layer, it returns probabilities between 0 and 1.\n",
    "#Typically, i classify values ≥ 0.5 as 1 (Positive) and < 0.5 as 0 ( # If ≥ 0.5, classify as 1; else, classify as 0 )\n",
    "\n",
    "y_pred_classes = (y_pred > 0.5).astype(int)\n",
    "\n",
    "# Print first 10 predictions vs actual labels\n",
    "for i in range(20):  \n",
    "    print(f\"Predicted: {y_pred_classes[i][0]}, Actual: {y_test.iloc[i]}\")"
   ]
  },
  {
   "cell_type": "markdown",
   "id": "3375b286-0793-4587-bc23-ecd25b1c5070",
   "metadata": {},
   "source": [
    "# Evaluate Performance using Classification Metrics"
   ]
  },
  {
   "cell_type": "code",
   "execution_count": 24,
   "id": "ba76b1ca-acc0-4d93-b519-b3aa74aaf4e6",
   "metadata": {},
   "outputs": [
    {
     "name": "stdout",
     "output_type": "stream",
     "text": [
      "              precision    recall  f1-score   support\n",
      "\n",
      "           0       0.85      0.85      0.85        13\n",
      "           1       0.89      0.89      0.89        18\n",
      "\n",
      "    accuracy                           0.87        31\n",
      "   macro avg       0.87      0.87      0.87        31\n",
      "weighted avg       0.87      0.87      0.87        31\n",
      "\n"
     ]
    }
   ],
   "source": [
    "print(classification_report(y_test , y_pred_classes)) #actual labels (y_test)  and predicted labels are  y_pred_clases"
   ]
  },
  {
   "attachments": {
    "d74fb7b2-a20a-477d-b567-178506a40c83.png": {
     "image/png": "[encoded data removed]"
    }
   },
   "cell_type": "markdown",
   "id": "1604a11f-1a4f-47f7-a899-059de617456f",
   "metadata": {},
   "source": [
    "![image.png](attachment:d74fb7b2-a20a-477d-b567-178506a40c83.png)"
   ]
  },
  {
   "cell_type": "markdown",
   "id": "5575a7c4-55a6-47a6-acd3-78a7ccca05ac",
   "metadata": {},
   "source": [
    "# Step 3: Analyze Accuracy & Loss Trends\n"
   ]
  },
  {
   "cell_type": "code",
   "execution_count": 25,
   "id": "405063db-4f8e-41bf-a72f-a370720f6848",
   "metadata": {},
   "outputs": [
    {
     "data": {
      "image/png": "[encoded data removed]",
      "text/plain": [
       "<Figure size 1000x400 with 2 Axes>"
      ]
     },
     "metadata": {},
     "output_type": "display_data"
    }
   ],
   "source": [
    "\n",
    "import matplotlib.pyplot as plt\n",
    "\n",
    "# Plot accuracy\n",
    "plt.figure(figsize=(10, 4))\n",
    "plt.subplot(1, 2, 1)\n",
    "plt.plot(history.history['accuracy'], label='Training Accuracy')\n",
    "plt.plot(history.history['val_accuracy'], label='Validation Accuracy')\n",
    "plt.xlabel('Epochs')\n",
    "plt.ylabel('Accuracy')\n",
    "plt.legend()\n",
    "plt.title('Training vs. Validation Accuracy')\n",
    "\n",
    "# Plot loss\n",
    "plt.subplot(1, 2, 2)\n",
    "plt.plot(history.history['loss'], label='Training Loss')\n",
    "plt.plot(history.history['val_loss'], label='Validation Loss')\n",
    "plt.xlabel('Epochs')\n",
    "plt.ylabel('Loss')\n",
    "plt.legend()\n",
    "plt.title('Training vs. Validation Loss')\n",
    "\n",
    "plt.show()\n"
   ]
  },
  {
   "attachments": {},
   "cell_type": "markdown",
   "id": "83915dc8-7c75-404c-bdb8-98c2e907bc07",
   "metadata": {},
   "source": []
  },
  {
   "cell_type": "code",
   "execution_count": 26,
   "id": "244178d9-f696-48e9-85a1-47f60f0b82bf",
   "metadata": {},
   "outputs": [
    {
     "name": "stderr",
     "output_type": "stream",
     "text": [
      "WARNING:absl:You are saving your model as an HDF5 file via `model.save()` or `keras.saving.save_model(model)`. This file format is considered legacy. We recommend using instead the native Keras format, e.g. `model.save('my_model.keras')` or `keras.saving.save_model(model, 'my_model.keras')`. \n"
     ]
    }
   ],
   "source": [
    "# Save the trained model\n",
    "model.save(\"heart_disease_model.h5\")\n"
   ]
  },
  {
   "cell_type": "code",
   "execution_count": 27,
   "id": "fb80949c-4d65-4113-9353-d96874212152",
   "metadata": {},
   "outputs": [
    {
     "name": "stderr",
     "output_type": "stream",
     "text": [
      "WARNING:absl:Compiled the loaded model, but the compiled metrics have yet to be built. `model.compile_metrics` will be empty until you train or evaluate the model.\n"
     ]
    }
   ],
   "source": [
    "from tensorflow.keras.models import load_model\n",
    "\n",
    "# Load the saved model\n",
    "model = load_model(\"heart_disease_model.h5\")\n"
   ]
  },
  {
   "cell_type": "code",
   "execution_count": null,
   "id": "7d53234c-74a2-484a-a926-2fb633fe7f20",
   "metadata": {},
   "outputs": [],
   "source": []
  },
  {
   "cell_type": "code",
   "execution_count": null,
   "id": "9ca66e62-bddf-492a-82cf-df9126828af0",
   "metadata": {},
   "outputs": [],
   "source": []
  },
  {
   "cell_type": "code",
   "execution_count": 29,
   "id": "6f4d7b4f-dacd-477a-81c2-552c884d436a",
   "metadata": {},
   "outputs": [
    {
     "name": "stderr",
     "output_type": "stream",
     "text": [
      "WARNING:absl:Compiled the loaded model, but the compiled metrics have yet to be built. `model.compile_metrics` will be empty until you train or evaluate the model.\n"
     ]
    },
    {
     "name": "stdout",
     "output_type": "stream",
     "text": [
      "\n",
      "--- Heart Disease Prediction ---\n",
      "\n",
      "--- Welcome to the Heart Disease Prediction Tool ---\n",
      "\n",
      "You'll be asked a few health-related questions. Please enter values carefully.\n",
      "\n"
     ]
    },
    {
     "name": "stdin",
     "output_type": "stream",
     "text": [
      "Enter your age (in years):  12\n"
     ]
    },
    {
     "name": "stdout",
     "output_type": "stream",
     "text": [
      "\n",
      "🔹 **Sex**: Biological sex affects heart disease risk.\n",
      "   0 = Female  (Higher risk after menopause)\n",
      "   1 = Male    (Higher risk at younger ages)\n"
     ]
    },
    {
     "name": "stdin",
     "output_type": "stream",
     "text": [
      "Enter 0 for Female or 1 for Male:  0\n"
     ]
    },
    {
     "name": "stdout",
     "output_type": "stream",
     "text": [
      "\n",
      "🔹 **Chest Pain Type (CP)**\n",
      "   0 = No Chest Pain\n",
      "   1 = Mild discomfort (e.g., during exercise)\n",
      "   2 = More intense pain (comes and goes)\n",
      "   3 = Severe, consistent pain (highest risk)\n"
     ]
    },
    {
     "name": "stdin",
     "output_type": "stream",
     "text": [
      "Enter the number that best describes your chest pain:  0\n",
      "\n",
      "Enter your resting blood pressure (in mmHg):  110\n",
      "\n",
      "Enter your total cholesterol level (mg/dL):  120\n"
     ]
    },
    {
     "name": "stdout",
     "output_type": "stream",
     "text": [
      "\n",
      "🔹 **Fasting Blood Sugar (FBS)**: Measures sugar levels after 8 hours of fasting.\n",
      "   0 = Less than 126 mg/dL (Normal)\n",
      "   1 = 126 mg/dL or higher (Possible diabetes)\n"
     ]
    },
    {
     "name": "stdin",
     "output_type": "stream",
     "text": [
      "Enter 0 for normal or 1 for high fasting blood sugar:  0\n"
     ]
    },
    {
     "name": "stdout",
     "output_type": "stream",
     "text": [
      "\n",
      "🔹 **Resting Electrocardiogram (ECG) Results**\n",
      "   0 = Normal ECG\n",
      "   1 = Mild abnormalities (ST-T wave changes)\n",
      "   2 = Possible left ventricular hypertrophy (thicker heart walls)\n"
     ]
    },
    {
     "name": "stdin",
     "output_type": "stream",
     "text": [
      "Enter 0, 1, or 2 based on your ECG results:  0\n",
      "\n",
      "Enter your maximum recorded heart rate:  100\n"
     ]
    },
    {
     "name": "stdout",
     "output_type": "stream",
     "text": [
      "\n",
      "🔹 **Exercise-Induced Angina**\n",
      "   0 = No pain during exercise\n",
      "   1 = Chest pain or discomfort when exercising\n"
     ]
    },
    {
     "name": "stdin",
     "output_type": "stream",
     "text": [
      "Enter 0 if no pain, or 1 if you experience chest pain during exercise:  0\n"
     ]
    },
    {
     "name": "stdout",
     "output_type": "stream",
     "text": [
      "\n",
      "🔹 **ST Depression (Oldpeak)**: Measures heart stress level.\n",
      "   - Enter 0 if normal\n",
      "   - Higher values (e.g., 1-3) indicate possible heart disease.\n"
     ]
    },
    {
     "name": "stdin",
     "output_type": "stream",
     "text": [
      "Enter ST depression level (e.g., 0, 1.5, 2.3):  0\n"
     ]
    },
    {
     "name": "stdout",
     "output_type": "stream",
     "text": [
      "\n",
      "🔹 **Slope of the ST Segment**\n",
      "   0 = Upsloping (Normal)\n",
      "   1 = Flat (Might indicate heart disease)\n",
      "   2 = Downsloping (Higher risk of heart disease)\n"
     ]
    },
    {
     "name": "stdin",
     "output_type": "stream",
     "text": [
      "Enter 0, 1, or 2 for ST segment slope:  0\n"
     ]
    },
    {
     "name": "stdout",
     "output_type": "stream",
     "text": [
      "\n",
      "🔹 **Number of Major Blood Vessels Visible in Angiography**\n",
      "   0 = No blockages visible\n",
      "   1-3 = Increasing number of blocked vessels (Higher risk)\n"
     ]
    },
    {
     "name": "stdin",
     "output_type": "stream",
     "text": [
      "Enter the number of major vessels detected (0-3):  1\n"
     ]
    },
    {
     "name": "stdout",
     "output_type": "stream",
     "text": [
      "\n",
      "🔹 **Thalassemia (Thal)**: A blood disorder affecting oxygen transport.\n",
      "   3 = Normal (No problem)\n",
      "   6 = Fixed Defect (Previous heart attack or damage)\n",
      "   7 = Reversible Defect (Possible heart disease, but not permanent)\n"
     ]
    },
    {
     "name": "stdin",
     "output_type": "stream",
     "text": [
      "Enter 3 for Normal, 6 for Fixed Defect, or 7 for Reversible Defect:  3\n"
     ]
    },
    {
     "name": "stdout",
     "output_type": "stream",
     "text": [
      "\n",
      "Final Input Shape: (1, 15)\n",
      "\u001b[1m1/1\u001b[0m \u001b[32m━━━━━━━━━━━━━━━━━━━━\u001b[0m\u001b[37m\u001b[0m \u001b[1m0s\u001b[0m 117ms/step"
     ]
    },
    {
     "name": "stderr",
     "output_type": "stream",
     "text": [
      "C:\\Users\\syedm\\AppData\\Local\\Programs\\Python\\Python311\\Lib\\site-packages\\sklearn\\utils\\validation.py:2739: UserWarning: X does not have valid feature names, but MinMaxScaler was fitted with feature names\n",
      "  warnings.warn(\n"
     ]
    },
    {
     "name": "stdout",
     "output_type": "stream",
     "text": [
      "\u001b[1m1/1\u001b[0m \u001b[32m━━━━━━━━━━━━━━━━━━━━\u001b[0m\u001b[37m\u001b[0m \u001b[1m0s\u001b[0m 194ms/step\n",
      "\n",
      "✅ **Low risk of heart disease.** Maintain a healthy lifestyle!\n"
     ]
    }
   ],
   "source": [
    "import numpy as np\n",
    "import tensorflow as tf\n",
    "import joblib  # To load the scaler\n",
    "\n",
    "def load_model(model_path):\n",
    "    \"\"\"Load the trained ANN model.\"\"\"\n",
    "    return tf.keras.models.load_model(model_path)\n",
    "\n",
    "def load_scaler(scaler_path):\n",
    "    \"\"\"Load the MinMaxScaler used during training.\"\"\"\n",
    "    return joblib.load(scaler_path)\n",
    "\n",
    "def get_user_input(scaler):\n",
    "    \"\"\"Collects 15 features from the user with clear explanations.\"\"\"\n",
    "\n",
    "    print(\"\\n--- Welcome to the Heart Disease Prediction Tool ---\\n\")\n",
    "    print(\"You'll be asked a few health-related questions. Please enter values carefully.\\n\")\n",
    "\n",
    "    # Age\n",
    "    age = int(input(\"Enter your age (in years): \"))\n",
    "\n",
    "    # Sex\n",
    "    print(\"\\n🔹 **Sex**: Biological sex affects heart disease risk.\")\n",
    "    print(\"   0 = Female  (Higher risk after menopause)\")\n",
    "    print(\"   1 = Male    (Higher risk at younger ages)\")\n",
    "    sex = int(input(\"Enter 0 for Female or 1 for Male: \"))\n",
    "\n",
    "    # Chest Pain Type (cp)\n",
    "    print(\"\\n🔹 **Chest Pain Type (CP)**\")\n",
    "    print(\"   0 = No Chest Pain\")\n",
    "    print(\"   1 = Mild discomfort (e.g., during exercise)\")\n",
    "    print(\"   2 = More intense pain (comes and goes)\")\n",
    "    print(\"   3 = Severe, consistent pain (highest risk)\")\n",
    "    cp = int(input(\"Enter the number that best describes your chest pain: \"))\n",
    "\n",
    "    # Resting Blood Pressure (trestbps)\n",
    "    trestbps = int(input(\"\\nEnter your resting blood pressure (in mmHg): \"))\n",
    "\n",
    "    # Cholesterol\n",
    "    chol = int(input(\"\\nEnter your total cholesterol level (mg/dL): \"))\n",
    "\n",
    "    # Fasting Blood Sugar (fbs)\n",
    "    print(\"\\n🔹 **Fasting Blood Sugar (FBS)**: Measures sugar levels after 8 hours of fasting.\")\n",
    "    print(\"   0 = Less than 126 mg/dL (Normal)\")\n",
    "    print(\"   1 = 126 mg/dL or higher (Possible diabetes)\")\n",
    "    fbs = int(input(\"Enter 0 for normal or 1 for high fasting blood sugar: \"))\n",
    "\n",
    "    # Resting ECG (restecg)\n",
    "    print(\"\\n🔹 **Resting Electrocardiogram (ECG) Results**\")\n",
    "    print(\"   0 = Normal ECG\")\n",
    "    print(\"   1 = Mild abnormalities (ST-T wave changes)\")\n",
    "    print(\"   2 = Possible left ventricular hypertrophy (thicker heart walls)\")\n",
    "    restecg = int(input(\"Enter 0, 1, or 2 based on your ECG results: \"))\n",
    "\n",
    "    # Maximum Heart Rate (thalach)\n",
    "    thalach = int(input(\"\\nEnter your maximum recorded heart rate: \"))\n",
    "\n",
    "    # Exercise-Induced Angina (exang)\n",
    "    print(\"\\n🔹 **Exercise-Induced Angina**\")\n",
    "    print(\"   0 = No pain during exercise\")\n",
    "    print(\"   1 = Chest pain or discomfort when exercising\")\n",
    "    exang = int(input(\"Enter 0 if no pain, or 1 if you experience chest pain during exercise: \"))\n",
    "\n",
    "    # Oldpeak (ST Depression)\n",
    "    print(\"\\n🔹 **ST Depression (Oldpeak)**: Measures heart stress level.\")\n",
    "    print(\"   - Enter 0 if normal\")\n",
    "    print(\"   - Higher values (e.g., 1-3) indicate possible heart disease.\")\n",
    "    oldpeak = float(input(\"Enter ST depression level (e.g., 0, 1.5, 2.3): \"))\n",
    "\n",
    "    # Slope of the Peak Exercise ST Segment\n",
    "    print(\"\\n🔹 **Slope of the ST Segment**\")\n",
    "    print(\"   0 = Upsloping (Normal)\")\n",
    "    print(\"   1 = Flat (Might indicate heart disease)\")\n",
    "    print(\"   2 = Downsloping (Higher risk of heart disease)\")\n",
    "    slope = int(input(\"Enter 0, 1, or 2 for ST segment slope: \"))\n",
    "\n",
    "    # Number of Major Vessels (ca)\n",
    "    print(\"\\n🔹 **Number of Major Blood Vessels Visible in Angiography**\")\n",
    "    print(\"   0 = No blockages visible\")\n",
    "    print(\"   1-3 = Increasing number of blocked vessels (Higher risk)\")\n",
    "    ca = int(input(\"Enter the number of major vessels detected (0-3): \"))\n",
    "\n",
    "    # Thalassemia (thal)\n",
    "    print(\"\\n🔹 **Thalassemia (Thal)**: A blood disorder affecting oxygen transport.\")\n",
    "    print(\"   3 = Normal (No problem)\")\n",
    "    print(\"   6 = Fixed Defect (Previous heart attack or damage)\")\n",
    "    print(\"   7 = Reversible Defect (Possible heart disease, but not permanent)\")\n",
    "    thal = int(input(\"Enter 3 for Normal, 6 for Fixed Defect, or 7 for Reversible Defect: \"))\n",
    "\n",
    "    # One-hot encoding for thal\n",
    "    thal_encoded = [1 if thal == 3 else 0, 1 if thal == 6 else 0, 1 if thal == 7 else 0]\n",
    "\n",
    "     # Combine numeric features\n",
    "    numeric_features = np.array([[age, trestbps, chol, thalach, oldpeak, ca]])\n",
    "\n",
    "    # Scale the numeric features\n",
    "    numeric_features_scaled = scaler.transform(numeric_features)\n",
    "\n",
    "     # Construct final input array\n",
    "    final_input = np.concatenate([numeric_features_scaled[0], [sex, cp, fbs, restecg, exang, slope], thal_encoded])\n",
    "\n",
    "    return final_input.reshape(1, -1)\n",
    "\n",
    "\n",
    "def predict_heart_disease(model_path, scaler_path):\n",
    "    \"\"\"Loads the model, collects user input, and makes a prediction.\"\"\"\n",
    "    model = load_model(model_path)\n",
    "    scaler = load_scaler(scaler_path)\n",
    "    \n",
    "    print(\"\\n--- Heart Disease Prediction ---\")\n",
    "    input_data = get_user_input(scaler)\n",
    "    \n",
    "    print(f\"\\nFinal Input Shape: {input_data.shape}\")  # Debugging print\n",
    "\n",
    "    # Make prediction\n",
    "    prediction = model.predict(input_data)\n",
    "\n",
    "    # Convert prediction to class label\n",
    "    if prediction[0][0] > 0.5:\n",
    "        print(\"\\n⚠️ **High risk of heart disease!** Consult a doctor as soon as possible.\")\n",
    "    else:\n",
    "        print(\"\\n✅ **Low risk of heart disease.** Maintain a healthy lifestyle!\")\n",
    "\n",
    "if __name__ == \"__main__\":\n",
    "    model_path = \"heart_disease_model.h5\"  # Ensure this is the correct path\n",
    "    scaler_path = \"scaler.pkl\"  # Ensure the scaler was saved properly\n",
    "    predict_heart_disease(model_path , scaler_path)\n"
   ]
  },
  {
   "cell_type": "code",
   "execution_count": 30,
   "id": "399eab7b-8ae9-4da1-b5cb-4beb7f01b4b1",
   "metadata": {},
   "outputs": [],
   "source": [
    "import pickle\n",
    "with open('model.pkl', 'wb') as file:\n",
    "    pickle.dump(model,file)"
   ]
  },
  {
   "cell_type": "code",
   "execution_count": null,
   "id": "2b88d170-0413-43e4-bd8d-ad27a8904de6",
   "metadata": {},
   "outputs": [],
   "source": []
  },
  {
   "cell_type": "markdown",
   "id": "d329ab24-7899-4033-a3dc-d4c773445ddd",
   "metadata": {},
   "source": [
    "# JUST FOR CHECKIGN THE PROBABILITIES "
   ]
  },
  {
   "cell_type": "code",
   "execution_count": 125,
   "id": "ee9589ce-7bb9-4ba6-bf25-8856b06ce1de",
   "metadata": {},
   "outputs": [
    {
     "name": "stdout",
     "output_type": "stream",
     "text": [
      "\u001b[1m1/1\u001b[0m \u001b[32m━━━━━━━━━━━━━━━━━━━━\u001b[0m\u001b[37m\u001b[0m \u001b[1m0s\u001b[0m 162ms/step\n",
      "\n",
      "🔢 **Predicted Probability:** 0.1077\n",
      "\n",
      "✅ **Low risk of heart disease.** Maintain a healthy lifestyle!\n"
     ]
    }
   ],
   "source": [
    "# Make prediction\n",
    "prediction = model.predict(X_test)\n",
    "\n",
    "# Print the raw probability score\n",
    "print(f\"\\n🔢 **Predicted Probability:** {prediction[11][0]:.4f}\")\n",
    "\n",
    "# Convert prediction to class label\n",
    "if prediction[11][0] > 0.5:\n",
    "    print(\"\\n⚠️ **High risk of heart disease!** Consult a doctor as soon as possible.\")\n",
    "else:\n",
    "    print(\"\\n✅ **Low risk of heart disease.** Maintain a healthy lifestyle!\")\n"
   ]
  },
  {
   "cell_type": "code",
   "execution_count": null,
   "id": "458baa74-f6b3-4d33-97b6-8f609056b971",
   "metadata": {},
   "outputs": [],
   "source": []
  },
  {
   "cell_type": "code",
   "execution_count": null,
   "id": "27be30b1-2495-421f-b351-980e0bd845ec",
   "metadata": {},
   "outputs": [],
   "source": []
  },
  {
   "cell_type": "markdown",
   "id": "62e5bcbb-c5f7-4b64-9fc6-2449663afead",
   "metadata": {},
   "source": [
    "import numpy as np\n",
    "import tensorflow as tf\n",
    "import joblib  # To load the scaler\n",
    "\n",
    "def load_model(model_path):\n",
    "    \"\"\"Load the trained ANN model.\"\"\"\n",
    "    return tf.keras.models.load_model(model_path)\n",
    "\n",
    "def load_scaler(scaler_path):\n",
    "    \"\"\"Load the MinMaxScaler used during training.\"\"\"\n",
    "    return joblib.load(scaler_path)\n",
    "\n",
    "def get_user_input(scaler):\n",
    "    \"\"\"Collects user input and scales the relevant features.\"\"\"\n",
    "    print(\"\\n--- Welcome to the Heart Disease Prediction Tool ---\\n\")\n",
    "    print(\"You'll be asked a few health-related questions. Please enter values carefully.\\n\")\n",
    "\n",
    "    # Collecting raw input\n",
    "    age = int(input(\"Enter your age (in years): \"))\n",
    "    sex = int(input(\"Enter 0 for Female or 1 for Male: \"))\n",
    "    cp = int(input(\"Enter your chest pain type (0-3): \"))\n",
    "    trestbps = int(input(\"Enter your resting blood pressure (in mmHg): \"))\n",
    "    chol = int(input(\"Enter your total cholesterol level (mg/dL): \"))\n",
    "    fbs = int(input(\"Enter 0 for normal fasting blood sugar or 1 for high: \"))\n",
    "    restecg = int(input(\"Enter resting ECG result (0-2): \"))\n",
    "    thalach = int(input(\"Enter your maximum recorded heart rate: \"))\n",
    "    exang = int(input(\"Enter 0 if no exercise-induced angina, 1 if present: \"))\n",
    "    oldpeak = float(input(\"Enter ST depression level (e.g., 0, 1.5, 2.3): \"))\n",
    "    slope = int(input(\"Enter ST segment slope (0, 1, or 2): \"))\n",
    "    ca = int(input(\"Enter number of major vessels (0-3): \"))\n",
    "    thal = int(input(\"Enter Thalassemia type (3 = Normal, 6 = Fixed Defect, 7 = Reversible Defect): \"))\n",
    "\n",
    "    # One-hot encoding for 'thal'\n",
    "    thal_encoded = [1 if thal == 3 else 0, 1 if thal == 6 else 0, 1 if thal == 7 else 0]\n",
    "\n",
    "    # Combine raw numeric features\n",
    "    user_data = np.array([[age, trestbps, chol, thalach, oldpeak, ca]])\n",
    "\n",
    "    # Scale the numeric features using the same MinMaxScaler\n",
    "    user_data_scaled = scaler.transform(user_data)\n",
    "\n",
    "    # Convert to final feature array (keeping categorical features unchanged)\n",
    "    final_input = np.concatenate([user_data_scaled[0], [sex, cp, fbs, restecg, exang, slope], thal_encoded])\n",
    "\n",
    "    return final_input.reshape(1, -1)\n",
    "\n",
    "def predict_heart_disease(model_path, scaler_path):\n",
    "    \"\"\"Loads the model and scaler, collects user input, scales it, and makes a prediction.\"\"\"\n",
    "    model = load_model(model_path)\n",
    "    scaler = load_scaler(scaler_path)\n",
    "    \n",
    "    print(\"\\n--- Heart Disease Prediction ---\")\n",
    "    input_data = get_user_input(scaler)\n",
    "    \n",
    "    print(f\"\\nFinal Input Shape: {input_data.shape}\")  # Debugging print\n",
    "\n",
    "    # Make prediction\n",
    "    prediction = model.predict(input_data)\n",
    "\n",
    "    # Convert prediction to class label\n",
    "    if prediction[0][0] > 0.5:\n",
    "        print(\"\\n⚠️ **High risk of heart disease!** Consult a doctor as soon as possible.\")\n",
    "    else:\n",
    "        print(\"\\n✅ **Low risk of heart disease.** Maintain a healthy lifestyle!\")\n",
    "\n",
    "if __name__ == \"__main__\":\n",
    "    model_path = \"heart_disease_model.h5\"  # Ensure this is the correct path\n",
    "    scaler_path = \"scaler.pkl\"  # Save this during training\n",
    "    predict_heart_disease(model_path, scaler_path)\n"
   ]
  },
  {
   "cell_type": "code",
   "execution_count": null,
   "id": "72673a05-8aa9-4904-ae9a-5f949037a622",
   "metadata": {},
   "outputs": [],
   "source": []
  }
 ],
 "metadata": {
  "kernelspec": {
   "display_name": "Python 3 (ipykernel)",
   "language": "python",
   "name": "python3"
  },
  "language_info": {
   "codemirror_mode": {
    "name": "ipython",
    "version": 3
   },
   "file_extension": ".py",
   "mimetype": "text/x-python",
   "name": "python",
   "nbconvert_exporter": "python",
   "pygments_lexer": "ipython3",
   "version": "3.11.7"
  }
 },
 "nbformat": 4,
 "nbformat_minor": 5
}
